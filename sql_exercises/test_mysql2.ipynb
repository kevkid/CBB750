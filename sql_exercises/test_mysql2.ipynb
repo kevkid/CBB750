{
 "cells": [
  {
   "cell_type": "code",
   "execution_count": 6,
   "metadata": {
    "collapsed": false
   },
   "outputs": [
    {
     "name": "stdout",
     "output_type": "stream",
     "text": [
      "4852 NPY umls:C0001973 alcoholic intoxication, chronic 5 5 23 psycur15 1.0 11\n",
      "6532 SLC6A4 umls:C0001973 alcoholic intoxication, chronic 5 5 57 psycur15 1.0 23\n",
      "6532 SLC6A4 umls:C0005586 bipolar disorder 5 5 70 psycur15 1.0 23\n",
      "6532 SLC6A4 umls:C0011581 depressive disorder 5 5 337 psycur15 1.0 23\n",
      "6532 SLC6A4 umls:C0525045 mood disorders 5 5 86 psycur15 1.0 23\n"
     ]
    }
   ],
   "source": [
    "import MySQLdb\n",
    "\n",
    "\n",
    "db = MySQLdb.connect(host=\"localhost\",    # your host, usually localhost\n",
    "                     user=\"root\",         # your username\n",
    "                     passwd=\"toor\",  # your password\n",
    "                     db=\"TestDB\")        # name of the data base\n",
    "\n",
    "# you must create a Cursor object. It will let\n",
    "#  you execute all the queries you need\n",
    "cur = db.cursor()\n",
    "\n",
    "# Use all the SQL you like\n",
    "cur.execute(\"SELECT * FROM Gene_Disease\")\n",
    "\n",
    "# print all the first cell of all the rows\n",
    "for row in cur.fetchall():\n",
    "    print row[0],row[1],row[3],row[4],row[6],row[6],row[7],row[8],row[9],row[10]\n",
    "\n",
    "db.close()"
   ]
  },
  {
   "cell_type": "code",
   "execution_count": null,
   "metadata": {
    "collapsed": true
   },
   "outputs": [],
   "source": []
  },
  {
   "cell_type": "code",
   "execution_count": null,
   "metadata": {
    "collapsed": true
   },
   "outputs": [],
   "source": []
  }
 ],
 "metadata": {
  "anaconda-cloud": {},
  "kernelspec": {
   "display_name": "Python 2",
   "language": "python",
   "name": "python2"
  },
  "language_info": {
   "codemirror_mode": {
    "name": "ipython",
    "version": 2
   },
   "file_extension": ".py",
   "mimetype": "text/x-python",
   "name": "python",
   "nbconvert_exporter": "python",
   "pygments_lexer": "ipython2",
   "version": "2.7.12"
  }
 },
 "nbformat": 4,
 "nbformat_minor": 1
}
